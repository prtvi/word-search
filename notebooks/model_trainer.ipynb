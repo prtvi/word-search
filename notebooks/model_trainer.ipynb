{
 "cells": [
  {
   "cell_type": "markdown",
   "id": "1f57e204",
   "metadata": {},
   "source": [
    "# CNN letter classifier using EMNIST dataset"
   ]
  },
  {
   "cell_type": "code",
   "execution_count": 1,
   "id": "6cce8283",
   "metadata": {},
   "outputs": [
    {
     "data": {
      "text/plain": [
       "['balanced', 'byclass', 'bymerge', 'digits', 'letters', 'mnist']"
      ]
     },
     "execution_count": 1,
     "metadata": {},
     "output_type": "execute_result"
    }
   ],
   "source": [
    "# Listing all datasets from emnist\n",
    "from emnist import list_datasets\n",
    "list_datasets()"
   ]
  },
  {
   "cell_type": "code",
   "execution_count": 2,
   "id": "fb28544d",
   "metadata": {},
   "outputs": [],
   "source": [
    "# Necessary imports\n",
    "import numpy as np\n",
    "import cv2\n",
    "import matplotlib.pyplot as plt\n",
    "from keras.preprocessing.image import ImageDataGenerator\n",
    "from keras.utils.np_utils import to_categorical\n",
    "from keras.models import Sequential\n",
    "from keras.layers import Dense\n",
    "from tensorflow.keras.optimizers import Adam\n",
    "from keras.layers.convolutional import Conv2D, MaxPooling2D\n",
    "from keras.layers import Dropout, Flatten\n",
    "from matplotlib import pyplot as plt\n",
    "from sklearn.model_selection import train_test_split\n",
    "from emnist import extract_training_samples, extract_test_samples"
   ]
  },
  {
   "cell_type": "code",
   "execution_count": 30,
   "id": "e4d11c79",
   "metadata": {},
   "outputs": [],
   "source": [
    "# Initialize global variables\n",
    "n_classes = 26 \n",
    "batch_size = 100\n",
    "validation_ratio = 0.2\n",
    "epochs = 10\n",
    "\n",
    "saved_model_path = '../model/letters_classifier.keras'"
   ]
  },
  {
   "cell_type": "code",
   "execution_count": 31,
   "id": "a9b1b14c",
   "metadata": {},
   "outputs": [
    {
     "name": "stdout",
     "output_type": "stream",
     "text": [
      "Train data:       (124800, 28, 28) (124800,)\n",
      "Test data:        (16640, 28, 28) (16640,)\n",
      "Validation data:  (4160, 28, 28) (4160,)\n",
      "Image dimensions: (28, 28)\n"
     ]
    }
   ],
   "source": [
    "# Initialize (x_train, y_train), (x_test, y_test) & (x_validation, y_validation)\n",
    "\n",
    "x_train, y_train = extract_training_samples('letters')\n",
    "x_test, y_test = extract_test_samples('letters')\n",
    "x_test, x_validation, y_test, y_validation = train_test_split(x_test, y_test, test_size=validation_ratio)\n",
    "# the validation size is 0.2\n",
    "\n",
    "print('Train data:      ', x_train.shape, y_train.shape)\n",
    "print('Test data:       ', x_test.shape, y_test.shape)\n",
    "print('Validation data: ', x_validation.shape, y_validation.shape)\n",
    "\n",
    "image_dimensions = x_train[0].shape\n",
    "print('Image dimensions:', image_dimensions)"
   ]
  },
  {
   "cell_type": "code",
   "execution_count": 32,
   "id": "946dfbe0",
   "metadata": {},
   "outputs": [],
   "source": [
    "def datasetPreprocessing(img):\n",
    "    img = cv2.equalizeHist(img)\n",
    "    img = img / 255\n",
    "    return img\n",
    "\n",
    "def shiftLabelID(label):\n",
    "    label -= 1\n",
    "    return label\n",
    "\n",
    "def getAlphabetMapping():\n",
    "    return { num:chr(char) for (num, char) in zip(list(range(0, 26)), list(range(65, 65+26))) }"
   ]
  },
  {
   "cell_type": "code",
   "execution_count": 33,
   "id": "281deef5",
   "metadata": {},
   "outputs": [
    {
     "name": "stdout",
     "output_type": "stream",
     "text": [
      "(124800, 28, 28)\n",
      "(124800, 28, 28, 1)\n"
     ]
    }
   ],
   "source": [
    "# Apply datasetPreprocessing to x\n",
    "x_train = np.array(list(map(datasetPreprocessing, x_train)))\n",
    "x_test = np.array(list(map(datasetPreprocessing, x_test)))\n",
    "x_validation = np.array(list(map(datasetPreprocessing, x_validation)))\n",
    "\n",
    "print(x_train.shape)\n",
    "\n",
    "# converting the shape to 4-dim for ImageDataGenerator input\n",
    "x_train = x_train.reshape((x_train.shape[0], x_train.shape[1], x_train.shape[2], 1))\n",
    "x_test = x_test.reshape((x_test.shape[0], x_test.shape[1], x_test.shape[2], 1))\n",
    "x_validation = x_validation.reshape((x_validation.shape[0], x_validation.shape[1], x_validation.shape[2], 1))\n",
    "\n",
    "print(x_train.shape)\n",
    "\n",
    "# (124800, 28, 28) -> (124800, 28, 28, 1)"
   ]
  },
  {
   "cell_type": "code",
   "execution_count": null,
   "id": "e6314277",
   "metadata": {},
   "outputs": [],
   "source": [
    "# data augmentation\n",
    "data_generator = ImageDataGenerator(width_shift_range=0.1,\n",
    "                                    height_shift_range=0.1,\n",
    "                                    zoom_range=0.2,\n",
    "                                    shear_range=0.1,\n",
    "                                    rotation_range=10)\n",
    "data_generator.fit(x_train)"
   ]
  },
  {
   "cell_type": "code",
   "execution_count": 34,
   "id": "77ce3c1d",
   "metadata": {},
   "outputs": [
    {
     "name": "stdout",
     "output_type": "stream",
     "text": [
      "{0: 'A', 1: 'B', 2: 'C', 3: 'D', 4: 'E', 5: 'F', 6: 'G', 7: 'H', 8: 'I', 9: 'J', 10: 'K', 11: 'L', 12: 'M', 13: 'N', 14: 'O', 15: 'P', 16: 'Q', 17: 'R', 18: 'S', 19: 'T', 20: 'U', 21: 'V', 22: 'W', 23: 'X', 24: 'Y', 25: 'Z'}\n"
     ]
    }
   ],
   "source": [
    "# alphabet mapping for detecting labels\n",
    "\n",
    "alphabet_mapping = getAlphabetMapping()\n",
    "print(alphabet_mapping)"
   ]
  },
  {
   "cell_type": "code",
   "execution_count": 35,
   "id": "271e7a86",
   "metadata": {},
   "outputs": [],
   "source": [
    "# shifting the label ids as per the alphabet_mapping\n",
    "\n",
    "y_train = np.array(list(map(shiftLabelID, y_train)))\n",
    "y_test = np.array(list(map(shiftLabelID, y_test)))\n",
    "y_validation = np.array(list(map(shiftLabelID, y_validation)))"
   ]
  },
  {
   "cell_type": "code",
   "execution_count": 37,
   "id": "254f3068",
   "metadata": {},
   "outputs": [
    {
     "name": "stdout",
     "output_type": "stream",
     "text": [
      "15\n"
     ]
    },
    {
     "data": {
      "image/png": "[encoded data removed]",
      "text/plain": [
       "<Figure size 432x288 with 1 Axes>"
      ]
     },
     "metadata": {
      "needs_background": "light"
     },
     "output_type": "display_data"
    }
   ],
   "source": [
    "# testing alphabet_mapping with the dataset\n",
    "n = 2\n",
    "print(y_train[n])\n",
    "\n",
    "plt.imshow(x_train[n], interpolation='nearest')\n",
    "plt.show()"
   ]
  },
  {
   "cell_type": "code",
   "execution_count": 10,
   "id": "e5a52ecd",
   "metadata": {},
   "outputs": [
    {
     "name": "stdout",
     "output_type": "stream",
     "text": [
      "[0. 0. 0. 0. 0. 0. 0. 0. 0. 0. 0. 0. 0. 0. 0. 1. 0. 0. 0. 0. 0. 0. 0. 0.\n",
      " 0. 0.]\n",
      "(124800, 26)\n"
     ]
    }
   ],
   "source": [
    "# Converting y to one-hot vectors\n",
    "\n",
    "y_train = to_categorical(y_train, n_classes)\n",
    "y_test = to_categorical(y_test, n_classes)\n",
    "y_validation = to_categorical(y_validation, n_classes)\n",
    "\n",
    "print(y_train[n])\n",
    "print(y_train.shape)"
   ]
  },
  {
   "cell_type": "code",
   "execution_count": 13,
   "id": "91115ef2",
   "metadata": {},
   "outputs": [],
   "source": [
    "def create_model():\n",
    "    '''DEFINING THE CNN MODEL'''\n",
    "\n",
    "    n_filters = 60\n",
    "    size_of_filter1 = (5, 5)\n",
    "    size_of_filter2 = (3, 3)\n",
    "    size_of_pool = (2, 2)\n",
    "    n_nodes = 500\n",
    "\n",
    "    model = Sequential()\n",
    "\n",
    "    model.add((Conv2D(n_filters, size_of_filter1, input_shape=(image_dimensions[0], image_dimensions[1], 1), activation='relu')))\n",
    "    model.add((Conv2D(n_filters, size_of_filter1, activation='relu')))\n",
    "    model.add(MaxPooling2D(pool_size=size_of_pool))\n",
    "    \n",
    "    model.add((Conv2D(n_filters//2, size_of_filter2, activation='relu')))\n",
    "    model.add((Conv2D(n_filters//2, size_of_filter2, activation='relu')))\n",
    "    model.add(MaxPooling2D(pool_size=size_of_pool))\n",
    "\n",
    "    model.add(Dropout(0.5))\n",
    "    model.add(Flatten())\n",
    "    model.add(Dense(n_nodes, activation='relu'))\n",
    "    \n",
    "    model.add(Dropout(0.5))\n",
    "    model.add(Dense(n_classes, activation='softmax'))\n",
    "\n",
    "    model.compile(Adam(learning_rate=0.001), loss='categorical_crossentropy', metrics=['accuracy'])\n",
    "\n",
    "    return model"
   ]
  },
  {
   "cell_type": "code",
   "execution_count": 14,
   "id": "9c0c056f",
   "metadata": {},
   "outputs": [
    {
     "name": "stdout",
     "output_type": "stream",
     "text": [
      "Model: \"sequential_1\"\n",
      "_________________________________________________________________\n",
      " Layer (type)                Output Shape              Param #   \n",
      "=================================================================\n",
      " conv2d_4 (Conv2D)           (None, 24, 24, 60)        1560      \n",
      "                                                                 \n",
      " conv2d_5 (Conv2D)           (None, 20, 20, 60)        90060     \n",
      "                                                                 \n",
      " max_pooling2d_2 (MaxPooling  (None, 10, 10, 60)       0         \n",
      " 2D)                                                             \n",
      "                                                                 \n",
      " conv2d_6 (Conv2D)           (None, 8, 8, 30)          16230     \n",
      "                                                                 \n",
      " conv2d_7 (Conv2D)           (None, 6, 6, 30)          8130      \n",
      "                                                                 \n",
      " max_pooling2d_3 (MaxPooling  (None, 3, 3, 30)         0         \n",
      " 2D)                                                             \n",
      "                                                                 \n",
      " dropout_2 (Dropout)         (None, 3, 3, 30)          0         \n",
      "                                                                 \n",
      " flatten_1 (Flatten)         (None, 270)               0         \n",
      "                                                                 \n",
      " dense_2 (Dense)             (None, 500)               135500    \n",
      "                                                                 \n",
      " dropout_3 (Dropout)         (None, 500)               0         \n",
      "                                                                 \n",
      " dense_3 (Dense)             (None, 26)                13026     \n",
      "                                                                 \n",
      "=================================================================\n",
      "Total params: 264,506\n",
      "Trainable params: 264,506\n",
      "Non-trainable params: 0\n",
      "_________________________________________________________________\n",
      "None\n",
      "Epoch 1/10\n",
      "1248/1248 [==============================] - 684s 547ms/step - loss: 1.2056 - accuracy: 0.6262 - val_loss: 0.2772 - val_accuracy: 0.9058\n",
      "Epoch 2/10\n",
      "1248/1248 [==============================] - 677s 542ms/step - loss: 0.5975 - accuracy: 0.8109 - val_loss: 0.2126 - val_accuracy: 0.9315\n",
      "Epoch 3/10\n",
      "1248/1248 [==============================] - 684s 548ms/step - loss: 0.4842 - accuracy: 0.8468 - val_loss: 0.2064 - val_accuracy: 0.9291\n",
      "Epoch 4/10\n",
      "1248/1248 [==============================] - 672s 539ms/step - loss: 0.4314 - accuracy: 0.8622 - val_loss: 0.1810 - val_accuracy: 0.9401\n",
      "Epoch 5/10\n",
      "1248/1248 [==============================] - 674s 540ms/step - loss: 0.3989 - accuracy: 0.8714 - val_loss: 0.1873 - val_accuracy: 0.9356\n",
      "Epoch 6/10\n",
      "1248/1248 [==============================] - 673s 539ms/step - loss: 0.3733 - accuracy: 0.8797 - val_loss: 0.1830 - val_accuracy: 0.9358\n",
      "Epoch 7/10\n",
      "1248/1248 [==============================] - 670s 537ms/step - loss: 0.3592 - accuracy: 0.8844 - val_loss: 0.1810 - val_accuracy: 0.9377\n",
      "Epoch 8/10\n",
      "1248/1248 [==============================] - 668s 535ms/step - loss: 0.3467 - accuracy: 0.8884 - val_loss: 0.1780 - val_accuracy: 0.9409\n",
      "Epoch 9/10\n",
      "1248/1248 [==============================] - 670s 537ms/step - loss: 0.3390 - accuracy: 0.8913 - val_loss: 0.1924 - val_accuracy: 0.9380\n",
      "Epoch 10/10\n",
      "1248/1248 [==============================] - 671s 537ms/step - loss: 0.3284 - accuracy: 0.8950 - val_loss: 0.1673 - val_accuracy: 0.9440\n"
     ]
    }
   ],
   "source": [
    "# Start training the model\n",
    "\n",
    "model = create_model()\n",
    "print(model.summary())\n",
    "\n",
    "history = model.fit(data_generator.flow(x_train, y_train, batch_size=batch_size),\n",
    "                    epochs=epochs,\n",
    "                    validation_data=(x_validation, y_validation),\n",
    "                    shuffle=1)"
   ]
  },
  {
   "cell_type": "code",
   "execution_count": 46,
   "id": "a8053566",
   "metadata": {},
   "outputs": [
    {
     "data": {
      "image/png": "[encoded data removed]",
      "text/plain": [
       "<Figure size 432x288 with 1 Axes>"
      ]
     },
     "metadata": {
      "needs_background": "light"
     },
     "output_type": "display_data"
    },
    {
     "data": {
      "image/png": "[encoded data removed]",
      "text/plain": [
       "<Figure size 432x288 with 1 Axes>"
      ]
     },
     "metadata": {
      "needs_background": "light"
     },
     "output_type": "display_data"
    }
   ],
   "source": [
    "# print(dir(history))\n",
    "# print(history.history)\n",
    "\n",
    "# plotting the loss and accuracy of the model over the epochs\n",
    "plt.figure(1)\n",
    "plt.plot(history.history['loss'])\n",
    "plt.plot(history.history['val_loss'])\n",
    "plt.legend(['Training', 'Validation'])\n",
    "plt.title('Loss')\n",
    "plt.xlabel('Epoch')\n",
    "\n",
    "plt.figure(2)\n",
    "plt.plot(history.history['accuracy'])\n",
    "plt.plot(history.history['val_accuracy'])\n",
    "plt.legend(['Training', 'Validation'])\n",
    "plt.title('Accuracy')\n",
    "plt.xlabel('Epoch')\n",
    "plt.show()"
   ]
  },
  {
   "cell_type": "code",
   "execution_count": null,
   "id": "e9e6339e",
   "metadata": {},
   "outputs": [],
   "source": [
    "print(model.metrics_names)\n",
    "\n",
    "# evaluate model\n",
    "score = model.evaluate(x_test, y_test, verbose=0)\n",
    "print(f'Loss = {score[0]}')\n",
    "print(f'Accuracy = {score[1]}')\n",
    "\n",
    "# save model\n",
    "model.save(saved_model_path)"
   ]
  },
  {
   "cell_type": "markdown",
   "id": "8064913a",
   "metadata": {},
   "source": [
    "# Testing out the trained model"
   ]
  },
  {
   "cell_type": "code",
   "execution_count": 16,
   "id": "64a16af5",
   "metadata": {},
   "outputs": [],
   "source": [
    "from keras.models import load_model\n",
    "model = load_model(saved_model_path)"
   ]
  },
  {
   "cell_type": "code",
   "execution_count": 28,
   "id": "db1aa80a",
   "metadata": {},
   "outputs": [
    {
     "name": "stdout",
     "output_type": "stream",
     "text": [
      "{0: 'A', 1: 'B', 2: 'C', 3: 'D', 4: 'E', 5: 'F', 6: 'G', 7: 'H', 8: 'I', 9: 'J', 10: 'K', 11: 'L', 12: 'M', 13: 'N', 14: 'O', 15: 'P', 16: 'Q', 17: 'R', 18: 'S', 19: 'T', 20: 'U', 21: 'V', 22: 'W', 23: 'X', 24: 'Y', 25: 'Z'}\n",
      "\n",
      "Actual id: 10\n",
      "Actual letter: K\n"
     ]
    },
    {
     "data": {
      "image/png": "[encoded data removed]",
      "text/plain": [
       "<Figure size 432x288 with 1 Axes>"
      ]
     },
     "metadata": {
      "needs_background": "light"
     },
     "output_type": "display_data"
    },
    {
     "name": "stdout",
     "output_type": "stream",
     "text": [
      "Predicted id: 10\n",
      "Predicted letter: K\n",
      "Accuracy: 0.9990953\n"
     ]
    }
   ],
   "source": [
    "print(alphabet_mapping)\n",
    "print()\n",
    "\n",
    "n = 7659\n",
    "\n",
    "letter = x_train[n]\n",
    "letter = cv2.resize(letter, (28, 28))\n",
    "letter = letter.reshape(1, 28, 28, 1)\n",
    "\n",
    "classId = np.argmax(y_train[n])\n",
    "className = alphabet_mapping[np.argmax(y_train[n])]\n",
    "\n",
    "print('Actual id:', classId)\n",
    "print('Actual letter:', className)\n",
    "\n",
    "plt.imshow(x_train[n], interpolation='nearest')\n",
    "plt.show()\n",
    "\n",
    "# prediction\n",
    "prediction = model.predict(letter)\n",
    "predictedId = np.argmax(prediction, axis=1)[0]\n",
    "\n",
    "print('Predicted id:', predictedId)\n",
    "print('Predicted letter:', alphabet_mapping[predictedId])\n",
    "\n",
    "accuracy = np.amax(prediction)\n",
    "print('Accuracy:', accuracy)"
   ]
  }
 ],
 "metadata": {
  "kernelspec": {
   "display_name": "Python 3 (ipykernel)",
   "language": "python",
   "name": "python3"
  },
  "language_info": {
   "codemirror_mode": {
    "name": "ipython",
    "version": 3
   },
   "file_extension": ".py",
   "mimetype": "text/x-python",
   "name": "python",
   "nbconvert_exporter": "python",
   "pygments_lexer": "ipython3",
   "version": "3.8.12"
  }
 },
 "nbformat": 4,
 "nbformat_minor": 5
}
